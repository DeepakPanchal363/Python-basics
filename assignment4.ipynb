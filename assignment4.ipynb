{
 "cells": [
  {
   "cell_type": "code",
   "execution_count": 7,
   "metadata": {},
   "outputs": [
    {
     "name": "stdout",
     "output_type": "stream",
     "text": [
      "a = 12.3\n",
      "a = 13.4\n",
      "a = 14.5\n",
      "area : 76.69671179392245\n"
     ]
    }
   ],
   "source": [
    "class geometry:\n",
    "    def __init__(self, a, b, c):\n",
    "        self.a = float(input(\"a = \"))\n",
    "        self.b = float(input(\"a = \"))\n",
    "        self.c = float(input(\"a = \"))\n",
    "        \n",
    "\n",
    "class triangle(geometry):\n",
    "    def __init__(self, a, b, c):\n",
    "        super().__init__(a, b, c)\n",
    "\n",
    "    def area_triangle(self):\n",
    "        s = (self.a + self.b + self.c) / 2\n",
    "        return  float((s * (s - self.a) * (s - self.b) * (s - self.c))) ** 0.5\n",
    "\n",
    "t = triangle(a, b, c) \n",
    "print(\"area : {}\".format(t.area_triangle()))"
   ]
  },
  {
   "cell_type": "raw",
   "metadata": {},
   "source": [
    "#Write a function filter_long_words() that takes a list of words and an integer n and returns\n",
    "#the list of words that are longer than n.\n",
    "\n",
    "    "
   ]
  },
  {
   "cell_type": "code",
   "execution_count": 9,
   "metadata": {},
   "outputs": [
    {
     "name": "stdout",
     "output_type": "stream",
     "text": [
      "enter words , seperated by spaces: as asd asdf awe aert awsx asdf ax a a\n",
      "minimum length of the words to keep: 3\n",
      "words longer than 3 are asd, asdf, awe, aert, awsx, asdf.\n"
     ]
    }
   ],
   "source": [
    "def filterlongwords(wordlist, length):\n",
    "    return (word for word in wordlist if len(word) >= length)\n",
    "\n",
    "def main():\n",
    "    words = input(\"enter words , seperated by spaces: \").split()\n",
    "    length = int(input(\"minimum length of the words to keep: \"))\n",
    "    print(\"words longer than {} are {}.\".format(length,\n",
    "          ', '.join(filterlongwords(words, length))))\n",
    "    \n",
    "main()"
   ]
  },
  {
   "cell_type": "code",
   "execution_count": 10,
   "metadata": {},
   "outputs": [],
   "source": [
    "#Write a Python program using function concept that maps list of words into a list of integers\n",
    "#representing the lengths of the corresponding words."
   ]
  },
  {
   "cell_type": "code",
   "execution_count": 13,
   "metadata": {},
   "outputs": [
    {
     "name": "stdout",
     "output_type": "stream",
     "text": [
      "List of Word: asasas asasa asaas asas asas \n",
      "List of wordlength:[6, 5, 5, 4, 4]\n"
     ]
    }
   ],
   "source": [
    "listOfWords = input('List of Word: ').split() \n",
    "listOfInts = []\n",
    " \n",
    "for i in range(len(listOfWords)):\n",
    "    listOfInts.append(len(listOfWords[i]))\n",
    "     \n",
    "print (\"List of wordlength:\"+str(listOfInts))"
   ]
  },
  {
   "cell_type": "code",
   "execution_count": 15,
   "metadata": {},
   "outputs": [
    {
     "name": "stdout",
     "output_type": "stream",
     "text": [
      "Input : Please enter Words : aaaa, aaa, aaaa,aaaaaa\n",
      "Output: Length of Words are : [4, 3, 4, 6]\n"
     ]
    }
   ],
   "source": [
    "def map_Words_to_Length(List):\n",
    "    return list(map(len, List))\n",
    "\n",
    "word_List=list(input(\"Input : Please enter Words : \").split(\",\"))\n",
    "List=[x.strip() for x in word_List]\n",
    "Words_lengths=map_Words_to_Length(List)\n",
    "\n",
    "print(\"Output: Length of Words are :\",Words_lengths )"
   ]
  },
  {
   "cell_type": "code",
   "execution_count": 21,
   "metadata": {},
   "outputs": [],
   "source": [
    "#Write a Python function which takes a character (i.e. a string of length 1) and returns True if\n",
    "#it is a vowel, False otherwise."
   ]
  },
  {
   "cell_type": "code",
   "execution_count": 20,
   "metadata": {},
   "outputs": [
    {
     "name": "stdout",
     "output_type": "stream",
     "text": [
      "False\n",
      "True\n"
     ]
    }
   ],
   "source": [
    "def is_vowel(char):\n",
    "    all_vowels = 'aeiou'\n",
    "    return char in all_vowels\n",
    "print(is_vowel('c'))\n",
    "print(is_vowel('e'))\n"
   ]
  },
  {
   "cell_type": "code",
   "execution_count": null,
   "metadata": {},
   "outputs": [],
   "source": []
  }
 ],
 "metadata": {
  "kernelspec": {
   "display_name": "Python 3",
   "language": "python",
   "name": "python3"
  },
  "language_info": {
   "codemirror_mode": {
    "name": "ipython",
    "version": 3
   },
   "file_extension": ".py",
   "mimetype": "text/x-python",
   "name": "python",
   "nbconvert_exporter": "python",
   "pygments_lexer": "ipython3",
   "version": "3.8.5"
  }
 },
 "nbformat": 4,
 "nbformat_minor": 4
}
